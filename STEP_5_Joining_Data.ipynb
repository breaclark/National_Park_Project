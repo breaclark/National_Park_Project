{
 "cells": [
  {
   "cell_type": "markdown",
   "metadata": {},
   "source": [
    "## Step 5 - Linking the closest weather station to each park by ID"
   ]
  },
  {
   "cell_type": "code",
   "execution_count": 4,
   "metadata": {
    "collapsed": true
   },
   "outputs": [],
   "source": [
    "import pandas as pd"
   ]
  },
  {
   "cell_type": "markdown",
   "metadata": {},
   "source": [
    "### Since there is a lot of data, first I'll find the closest station to each place according to the latitude and longitude"
   ]
  },
  {
   "cell_type": "code",
   "execution_count": 5,
   "metadata": {
    "collapsed": false
   },
   "outputs": [
    {
     "data": {
      "text/html": [
       "<div>\n",
       "<table border=\"1\" class=\"dataframe\">\n",
       "  <thead>\n",
       "    <tr style=\"text-align: right;\">\n",
       "      <th></th>\n",
       "      <th>0</th>\n",
       "      <th>1</th>\n",
       "      <th>2</th>\n",
       "      <th>3</th>\n",
       "      <th>4</th>\n",
       "      <th>5</th>\n",
       "      <th>6</th>\n",
       "      <th>7</th>\n",
       "    </tr>\n",
       "  </thead>\n",
       "  <tbody>\n",
       "    <tr>\n",
       "      <th>0</th>\n",
       "      <td>AQC00914000</td>\n",
       "      <td>-14.3167</td>\n",
       "      <td>-170.7667</td>\n",
       "      <td>408.4</td>\n",
       "      <td>AS</td>\n",
       "      <td>AASUFOU</td>\n",
       "      <td>NaN</td>\n",
       "      <td>NaN</td>\n",
       "    </tr>\n",
       "    <tr>\n",
       "      <th>1</th>\n",
       "      <td>AQW00061705</td>\n",
       "      <td>-14.3306</td>\n",
       "      <td>-170.7136</td>\n",
       "      <td>3.7</td>\n",
       "      <td>AS</td>\n",
       "      <td>PAGO PAGO WSO AP               G</td>\n",
       "      <td>SN</td>\n",
       "      <td>91765</td>\n",
       "    </tr>\n",
       "    <tr>\n",
       "      <th>2</th>\n",
       "      <td>CAW00064757</td>\n",
       "      <td>44.2325</td>\n",
       "      <td>-79.7811</td>\n",
       "      <td>246.0</td>\n",
       "      <td>ON</td>\n",
       "      <td>EGBERT 1 W</td>\n",
       "      <td>NaN</td>\n",
       "      <td>NaN</td>\n",
       "    </tr>\n",
       "    <tr>\n",
       "      <th>3</th>\n",
       "      <td>CQC00914080</td>\n",
       "      <td>15.2136</td>\n",
       "      <td>145.7497</td>\n",
       "      <td>252.1</td>\n",
       "      <td>MP</td>\n",
       "      <td>CAPITOL HILL 1</td>\n",
       "      <td>NaN</td>\n",
       "      <td>NaN</td>\n",
       "    </tr>\n",
       "    <tr>\n",
       "      <th>4</th>\n",
       "      <td>CQC00914801</td>\n",
       "      <td>14.1717</td>\n",
       "      <td>145.2428</td>\n",
       "      <td>179.2</td>\n",
       "      <td>MP</td>\n",
       "      <td>ROTA AP</td>\n",
       "      <td>NaN</td>\n",
       "      <td>91221</td>\n",
       "    </tr>\n",
       "  </tbody>\n",
       "</table>\n",
       "</div>"
      ],
      "text/plain": [
       "             0        1         2      3   4  \\\n",
       "0  AQC00914000 -14.3167 -170.7667  408.4  AS   \n",
       "1  AQW00061705 -14.3306 -170.7136    3.7  AS   \n",
       "2  CAW00064757  44.2325  -79.7811  246.0  ON   \n",
       "3  CQC00914080  15.2136  145.7497  252.1  MP   \n",
       "4  CQC00914801  14.1717  145.2428  179.2  MP   \n",
       "\n",
       "                                  5    6      7  \n",
       "0                           AASUFOU  NaN    NaN  \n",
       "1  PAGO PAGO WSO AP               G   SN  91765  \n",
       "2                        EGBERT 1 W  NaN    NaN  \n",
       "3                    CAPITOL HILL 1  NaN    NaN  \n",
       "4                           ROTA AP  NaN  91221  "
      ]
     },
     "execution_count": 5,
     "metadata": {},
     "output_type": "execute_result"
    }
   ],
   "source": [
    "stations = pd.DataFrame.from_csv(\"weather/stations_locations.csv\")\n",
    "stations.head()"
   ]
  },
  {
   "cell_type": "code",
   "execution_count": 6,
   "metadata": {
    "collapsed": false
   },
   "outputs": [
    {
     "data": {
      "text/html": [
       "<div>\n",
       "<table border=\"1\" class=\"dataframe\">\n",
       "  <thead>\n",
       "    <tr style=\"text-align: right;\">\n",
       "      <th></th>\n",
       "      <th>Zip</th>\n",
       "      <th>Best Season</th>\n",
       "      <th>2nd Best Season</th>\n",
       "      <th>3rd Best Season</th>\n",
       "      <th>4th Best Season</th>\n",
       "      <th>Off Season</th>\n",
       "      <th>Best color</th>\n",
       "      <th>ZObjects</th>\n",
       "      <th>Lat</th>\n",
       "      <th>Lon</th>\n",
       "    </tr>\n",
       "  </thead>\n",
       "  <tbody>\n",
       "    <tr>\n",
       "      <th>Abraham Lincoln Birthplace NHP</th>\n",
       "      <td>42748</td>\n",
       "      <td>7</td>\n",
       "      <td>6</td>\n",
       "      <td>8</td>\n",
       "      <td>5</td>\n",
       "      <td>1</td>\n",
       "      <td>green</td>\n",
       "      <td>&lt;Zip: 42748&gt;</td>\n",
       "      <td>37.56</td>\n",
       "      <td>-85.73</td>\n",
       "    </tr>\n",
       "    <tr>\n",
       "      <th>Acadia NP</th>\n",
       "      <td>4660</td>\n",
       "      <td>8</td>\n",
       "      <td>7</td>\n",
       "      <td>9</td>\n",
       "      <td>6</td>\n",
       "      <td>12</td>\n",
       "      <td>teal</td>\n",
       "      <td>&lt;Zip: 04660&gt;</td>\n",
       "      <td>44.31</td>\n",
       "      <td>-68.36</td>\n",
       "    </tr>\n",
       "    <tr>\n",
       "      <th>Adams NHP</th>\n",
       "      <td>2169</td>\n",
       "      <td>7</td>\n",
       "      <td>8</td>\n",
       "      <td>6</td>\n",
       "      <td>9</td>\n",
       "      <td>1</td>\n",
       "      <td>green</td>\n",
       "      <td>&lt;Zip: 02169&gt;</td>\n",
       "      <td>42.26</td>\n",
       "      <td>-71.00</td>\n",
       "    </tr>\n",
       "    <tr>\n",
       "      <th>African Burial Ground NM</th>\n",
       "      <td>10007</td>\n",
       "      <td>7</td>\n",
       "      <td>5</td>\n",
       "      <td>6</td>\n",
       "      <td>4</td>\n",
       "      <td>1</td>\n",
       "      <td>green</td>\n",
       "      <td>&lt;Zip: 10007&gt;</td>\n",
       "      <td>40.71</td>\n",
       "      <td>-73.99</td>\n",
       "    </tr>\n",
       "    <tr>\n",
       "      <th>Agate Fossil Beds NM</th>\n",
       "      <td>69346</td>\n",
       "      <td>7</td>\n",
       "      <td>6</td>\n",
       "      <td>8</td>\n",
       "      <td>9</td>\n",
       "      <td>2</td>\n",
       "      <td>green</td>\n",
       "      <td>&lt;Zip: 69346&gt;</td>\n",
       "      <td>42.68</td>\n",
       "      <td>-103.88</td>\n",
       "    </tr>\n",
       "  </tbody>\n",
       "</table>\n",
       "</div>"
      ],
      "text/plain": [
       "                                  Zip  Best Season  2nd Best Season  \\\n",
       "Abraham Lincoln Birthplace NHP  42748            7                6   \n",
       "Acadia NP                        4660            8                7   \n",
       "Adams NHP                        2169            7                8   \n",
       "African Burial Ground NM        10007            7                5   \n",
       "Agate Fossil Beds NM            69346            7                6   \n",
       "\n",
       "                                3rd Best Season  4th Best Season  Off Season  \\\n",
       "Abraham Lincoln Birthplace NHP                8                5           1   \n",
       "Acadia NP                                     9                6          12   \n",
       "Adams NHP                                     6                9           1   \n",
       "African Burial Ground NM                      6                4           1   \n",
       "Agate Fossil Beds NM                          8                9           2   \n",
       "\n",
       "                               Best color      ZObjects    Lat     Lon  \n",
       "Abraham Lincoln Birthplace NHP      green  <Zip: 42748>  37.56  -85.73  \n",
       "Acadia NP                            teal  <Zip: 04660>  44.31  -68.36  \n",
       "Adams NHP                           green  <Zip: 02169>  42.26  -71.00  \n",
       "African Burial Ground NM            green  <Zip: 10007>  40.71  -73.99  \n",
       "Agate Fossil Beds NM                green  <Zip: 69346>  42.68 -103.88  "
      ]
     },
     "execution_count": 6,
     "metadata": {},
     "output_type": "execute_result"
    }
   ],
   "source": [
    "parks = pd.DataFrame.from_csv(\"Ultimate_Master.csv\")\n",
    "parks.head()"
   ]
  },
  {
   "cell_type": "code",
   "execution_count": 8,
   "metadata": {
    "collapsed": false
   },
   "outputs": [],
   "source": [
    "parks['Closest Station'] = \"\"\n",
    "\n",
    "\n",
    "for i in range(len(parks)):\n",
    "    closest_dist = 10000\n",
    "    closest_id = \"\"\n",
    "    for j in range(len(stations)):\n",
    "        dist = ((parks.ix[i,8] - stations.ix[j,1])**2 +(parks.ix[i,9] - stations.ix[j,2])**2)**(.5)\n",
    "        if dist < closest_dist:\n",
    "            closest_dist = dist\n",
    "            closest_id = stations.ix[j,0]\n",
    "    parks.ix[i,10] = closest_id\n",
    "\n",
    "parks.to_csv(\"Ultimate_Master_2.csv\")"
   ]
  }
 ],
 "metadata": {
  "kernelspec": {
   "display_name": "Python 2",
   "language": "python",
   "name": "python2"
  },
  "language_info": {
   "codemirror_mode": {
    "name": "ipython",
    "version": 2
   },
   "file_extension": ".py",
   "mimetype": "text/x-python",
   "name": "python",
   "nbconvert_exporter": "python",
   "pygments_lexer": "ipython2",
   "version": "2.7.11"
  }
 },
 "nbformat": 4,
 "nbformat_minor": 0
}
